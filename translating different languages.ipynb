{
 "cells": [
  {
   "cell_type": "code",
   "execution_count": 3,
   "id": "5918c5ab",
   "metadata": {},
   "outputs": [
    {
     "name": "stdout",
     "output_type": "stream",
     "text": [
      "Requirement already satisfied: goslate in c:\\users\\purusottam\\anaconda3\\lib\\site-packages (1.5.4)\n",
      "Requirement already satisfied: futures in c:\\users\\purusottam\\anaconda3\\lib\\site-packages (from goslate) (2.2.0)\n"
     ]
    }
   ],
   "source": [
    "!pip install goslate"
   ]
  },
  {
   "cell_type": "markdown",
   "id": "935486c4",
   "metadata": {},
   "source": [
    "# Using goslate library for translate language"
   ]
  },
  {
   "cell_type": "code",
   "execution_count": 9,
   "id": "b90ec8de",
   "metadata": {},
   "outputs": [
    {
     "data": {
      "text/plain": [
       "'Python is powerful'"
      ]
     },
     "execution_count": 9,
     "metadata": {},
     "output_type": "execute_result"
    }
   ],
   "source": [
    "import goslate\n",
    "inserted_text = \"Python is powerful\"\n",
    "new_gs = goslate.Goslate()\n",
    "new_gs.translate(inserted_text,'np')"
   ]
  },
  {
   "cell_type": "markdown",
   "id": "97d66e8c",
   "metadata": {},
   "source": [
    "Translate Library"
   ]
  },
  {
   "cell_type": "code",
   "execution_count": 10,
   "id": "89ad3bcc",
   "metadata": {},
   "outputs": [
    {
     "name": "stdout",
     "output_type": "stream",
     "text": [
      "Collecting translate\n",
      "  Downloading translate-3.6.1-py2.py3-none-any.whl (12 kB)\n",
      "Requirement already satisfied: click in c:\\users\\purusottam\\anaconda3\\lib\\site-packages (from translate) (8.0.3)\n",
      "Requirement already satisfied: requests in c:\\users\\purusottam\\anaconda3\\lib\\site-packages (from translate) (2.26.0)\n",
      "Requirement already satisfied: lxml in c:\\users\\purusottam\\anaconda3\\lib\\site-packages (from translate) (4.6.3)\n",
      "Collecting libretranslatepy==2.1.1\n",
      "  Downloading libretranslatepy-2.1.1-py3-none-any.whl (3.2 kB)\n",
      "Requirement already satisfied: colorama in c:\\users\\purusottam\\anaconda3\\lib\\site-packages (from click->translate) (0.4.4)\n",
      "Requirement already satisfied: urllib3<1.27,>=1.21.1 in c:\\users\\purusottam\\anaconda3\\lib\\site-packages (from requests->translate) (1.26.7)\n",
      "Requirement already satisfied: charset-normalizer~=2.0.0 in c:\\users\\purusottam\\anaconda3\\lib\\site-packages (from requests->translate) (2.0.4)\n",
      "Requirement already satisfied: certifi>=2017.4.17 in c:\\users\\purusottam\\anaconda3\\lib\\site-packages (from requests->translate) (2021.10.8)\n",
      "Requirement already satisfied: idna<4,>=2.5 in c:\\users\\purusottam\\anaconda3\\lib\\site-packages (from requests->translate) (3.2)\n",
      "Installing collected packages: libretranslatepy, translate\n",
      "Successfully installed libretranslatepy-2.1.1 translate-3.6.1\n"
     ]
    }
   ],
   "source": [
    "!pip install translate"
   ]
  },
  {
   "cell_type": "code",
   "execution_count": 38,
   "id": "7e0b5d22",
   "metadata": {},
   "outputs": [
    {
     "name": "stdout",
     "output_type": "stream",
     "text": [
      "Ceci est utile.\n"
     ]
    }
   ],
   "source": [
    "from translate import Translator\n",
    "translator = Translator(from_lang=\"english\", to_lang=\"fr\")\n",
    "translation = translator.translate(\"This is a useful library!\")\n",
    "print(translation)"
   ]
  },
  {
   "cell_type": "markdown",
   "id": "75b87440",
   "metadata": {},
   "source": [
    "TextBlob Library"
   ]
  },
  {
   "cell_type": "code",
   "execution_count": 26,
   "id": "4a93baca",
   "metadata": {},
   "outputs": [
    {
     "name": "stdout",
     "output_type": "stream",
     "text": [
      "Requirement already satisfied: textblob in c:\\users\\purusottam\\anaconda3\\lib\\site-packages (0.17.1)\n",
      "Requirement already satisfied: nltk>=3.1 in c:\\users\\purusottam\\anaconda3\\lib\\site-packages (from textblob) (3.6.5)\n",
      "Requirement already satisfied: click in c:\\users\\purusottam\\anaconda3\\lib\\site-packages (from nltk>=3.1->textblob) (8.0.3)\n",
      "Requirement already satisfied: joblib in c:\\users\\purusottam\\anaconda3\\lib\\site-packages (from nltk>=3.1->textblob) (1.1.0)\n",
      "Requirement already satisfied: regex>=2021.8.3 in c:\\users\\purusottam\\anaconda3\\lib\\site-packages (from nltk>=3.1->textblob) (2021.8.3)\n",
      "Requirement already satisfied: tqdm in c:\\users\\purusottam\\anaconda3\\lib\\site-packages (from nltk>=3.1->textblob) (4.62.3)\n",
      "Requirement already satisfied: colorama in c:\\users\\purusottam\\anaconda3\\lib\\site-packages (from click->nltk>=3.1->textblob) (0.4.4)\n"
     ]
    }
   ],
   "source": [
    "!pip install textblob"
   ]
  },
  {
   "cell_type": "code",
   "execution_count": 35,
   "id": "e629e0bd",
   "metadata": {},
   "outputs": [
    {
     "data": {
      "text/plain": [
       "TextBlob(\"Python मा कुनै पनि भाषा अनुवाद गर्न सजिलो तरीका\")"
      ]
     },
     "execution_count": 35,
     "metadata": {},
     "output_type": "execute_result"
    }
   ],
   "source": [
    "from textblob import TextBlob\n",
    "adding_blob = TextBlob(\"Easy way to translate any language in python\")\n",
    "adding_blob.translate(from_lang=\"en\",to = \"ne\")"
   ]
  },
  {
   "cell_type": "code",
   "execution_count": null,
   "id": "f16ef3da",
   "metadata": {},
   "outputs": [],
   "source": []
  }
 ],
 "metadata": {
  "kernelspec": {
   "display_name": "Python 3 (ipykernel)",
   "language": "python",
   "name": "python3"
  },
  "language_info": {
   "codemirror_mode": {
    "name": "ipython",
    "version": 3
   },
   "file_extension": ".py",
   "mimetype": "text/x-python",
   "name": "python",
   "nbconvert_exporter": "python",
   "pygments_lexer": "ipython3",
   "version": "3.9.7"
  }
 },
 "nbformat": 4,
 "nbformat_minor": 5
}
