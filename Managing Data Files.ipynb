{
 "cells": [
  {
   "cell_type": "markdown",
   "id": "d8f1cc8c",
   "metadata": {},
   "source": [
    "# Working with CSV Files"
   ]
  },
  {
   "cell_type": "code",
   "execution_count": 1,
   "id": "251ccf4b",
   "metadata": {},
   "outputs": [],
   "source": [
    "#generate 50 rows and 4 columns of data\n",
    "import numpy as np\n",
    "new_data = np.random.random((50,4))\n",
    "np.savetxt(\"main.csv\",new_data,fmt=\"%.2f\",delimiter=\",\",header=\"H1,H2,H3,H4\")\n"
   ]
  },
  {
   "cell_type": "code",
   "execution_count": 4,
   "id": "7c6fbd32",
   "metadata": {},
   "outputs": [
    {
     "data": {
      "text/plain": [
       "array([[0.06, 0.93, 0.  , 0.69],\n",
       "       [0.19, 0.41, 0.25, 0.42],\n",
       "       [0.07, 0.11, 0.3 , 0.3 ],\n",
       "       [0.8 , 0.58, 0.04, 0.16]])"
      ]
     },
     "execution_count": 4,
     "metadata": {},
     "output_type": "execute_result"
    }
   ],
   "source": [
    "#read csv file\n",
    "reading_csv = np.loadtxt(\"main.csv\",delimiter=\",\")\n",
    "reading_csv[:4,:]"
   ]
  },
  {
   "cell_type": "code",
   "execution_count": null,
   "id": "e66cd3ad",
   "metadata": {},
   "outputs": [],
   "source": []
  },
  {
   "cell_type": "markdown",
   "id": "162bfd50",
   "metadata": {},
   "source": [
    "# Using Pickle:"
   ]
  },
  {
   "cell_type": "markdown",
   "id": "f1ffe919",
   "metadata": {},
   "source": [
    "Store data in a binary file on a disk\n",
    "use python only to show pickle data\n",
    "Designed for python\n",
    "its extension is .pkl"
   ]
  },
  {
   "cell_type": "code",
   "execution_count": 5,
   "id": "f400642d",
   "metadata": {},
   "outputs": [],
   "source": [
    "import pickle"
   ]
  },
  {
   "cell_type": "code",
   "execution_count": 6,
   "id": "80c65551",
   "metadata": {},
   "outputs": [],
   "source": [
    "#write to pickle file\n",
    "ordering = {\"first\":1,\"second\":2,\"third\":3}\n",
    "pickle.dump(ordering,open(\"new.pkl\",\"wb\"))"
   ]
  },
  {
   "cell_type": "code",
   "execution_count": 7,
   "id": "2530a77e",
   "metadata": {},
   "outputs": [],
   "source": [
    "#read from pickle file\n",
    "reading_pickle = pickle.load(open('new.pkl','rb'))"
   ]
  },
  {
   "cell_type": "code",
   "execution_count": 8,
   "id": "7bec6b6c",
   "metadata": {},
   "outputs": [
    {
     "data": {
      "text/plain": [
       "{'first': 1, 'second': 2, 'third': 3}"
      ]
     },
     "execution_count": 8,
     "metadata": {},
     "output_type": "execute_result"
    }
   ],
   "source": [
    "reading_pickle"
   ]
  },
  {
   "cell_type": "markdown",
   "id": "9cb60da7",
   "metadata": {},
   "source": [
    "# Working with JSON Files"
   ]
  },
  {
   "cell_type": "markdown",
   "id": "22e8c05a",
   "metadata": {},
   "source": [
    "JavaScript Object Notation\n",
    "Faster than Pickle\n",
    "Independent Format and Good Practice\n",
    "Key-value pairs in curly bracket\n",
    "extension .json\n",
    "\n"
   ]
  },
  {
   "cell_type": "code",
   "execution_count": 10,
   "id": "328aa172",
   "metadata": {},
   "outputs": [],
   "source": [
    "import json\n",
    "college = {\n",
    "    \"college\":\"Engineering College\",\n",
    "    \"objectives\":\"Mastering Computer Science\",\n",
    "    \"departments\":{\n",
    "        \"dep1\":\"Computer Science\",\n",
    "        \"dep2\":\"Information Technology\"\n",
    "    },\n",
    "    \"years\":[\n",
    "        \"year 1\",\n",
    "        \"year 2\",\n",
    "        \"year 3\",\n",
    "        \"year 4\"\n",
    "    ],\n",
    "    \"numbers\":[1,2,3,4],\n",
    "    \"ID\":[10,20,30,40]\n",
    "}\n",
    "json.dump(college,open(\"college.json\",'w'))"
   ]
  },
  {
   "cell_type": "code",
   "execution_count": 11,
   "id": "f46818bd",
   "metadata": {},
   "outputs": [],
   "source": [
    " new_college = json.load(open(\"college.json\",'r'))"
   ]
  },
  {
   "cell_type": "code",
   "execution_count": 12,
   "id": "01945b6d",
   "metadata": {},
   "outputs": [
    {
     "data": {
      "text/plain": [
       "{'college': 'Engineering College',\n",
       " 'objectives': 'Mastering Computer Science',\n",
       " 'departments': {'dep1': 'Computer Science', 'dep2': 'Information Technology'},\n",
       " 'years': ['year 1', 'year 2', 'year 3', 'year 4'],\n",
       " 'numbers': [1, 2, 3, 4],\n",
       " 'ID': [10, 20, 30, 40]}"
      ]
     },
     "execution_count": 12,
     "metadata": {},
     "output_type": "execute_result"
    }
   ],
   "source": [
    "new_college"
   ]
  },
  {
   "cell_type": "code",
   "execution_count": null,
   "id": "925bd59b",
   "metadata": {},
   "outputs": [],
   "source": []
  }
 ],
 "metadata": {
  "kernelspec": {
   "display_name": "Python 3 (ipykernel)",
   "language": "python",
   "name": "python3"
  },
  "language_info": {
   "codemirror_mode": {
    "name": "ipython",
    "version": 3
   },
   "file_extension": ".py",
   "mimetype": "text/x-python",
   "name": "python",
   "nbconvert_exporter": "python",
   "pygments_lexer": "ipython3",
   "version": "3.9.7"
  }
 },
 "nbformat": 4,
 "nbformat_minor": 5
}
