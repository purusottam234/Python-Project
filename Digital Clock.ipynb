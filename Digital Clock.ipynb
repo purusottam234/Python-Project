{
 "cells": [
  {
   "cell_type": "markdown",
   "id": "637b4885",
   "metadata": {},
   "source": [
    "# Digital clock"
   ]
  },
  {
   "cell_type": "markdown",
   "id": "7b5b6c45",
   "metadata": {},
   "source": [
    "Strftime to display or to represent the current data and time \n",
    "using the term module to display current data in our clock"
   ]
  },
  {
   "cell_type": "markdown",
   "id": "0561e847",
   "metadata": {},
   "source": [
    "Tkinter is a python binding to the TK GUI toolkit Label is a widget\n",
    "that is used to implement display boxes where you can place text or \n",
    "images"
   ]
  },
  {
   "cell_type": "code",
   "execution_count": null,
   "id": "d20c1ec5",
   "metadata": {},
   "outputs": [],
   "source": [
    "from time import strftime\n",
    "from tkinter import Label,Tk\n",
    "#window config for Clock\n",
    "window = Tk()\n",
    "window.title(\"Digital Clock\")\n",
    "window.geometry(\"200x80\")\n",
    "window.configure(bg=\"red\")\n",
    "window.resizable(True,True)\n",
    "\n",
    "#Label config\n",
    "clock_label = Label(window,bg=\"black\",fg=\"white\",font=(\"Times\",30,\"bold\"),relief=\"flat\")\n",
    "clock_label.place(x=20,y=20)\n",
    "\n",
    "# updating label\n",
    "def updating_label():\n",
    "    current_time = strftime('%H: %M: %S')\n",
    "    clock_label.configure(text=current_time)\n",
    "    clock_label.after(80,updating_label)\n",
    "    \n",
    "updating_label()\n",
    "window.mainloop()"
   ]
  },
  {
   "cell_type": "code",
   "execution_count": null,
   "id": "0ba3e334",
   "metadata": {},
   "outputs": [],
   "source": []
  },
  {
   "cell_type": "code",
   "execution_count": null,
   "id": "845a1e1a",
   "metadata": {},
   "outputs": [],
   "source": []
  }
 ],
 "metadata": {
  "kernelspec": {
   "display_name": "Python 3 (ipykernel)",
   "language": "python",
   "name": "python3"
  },
  "language_info": {
   "codemirror_mode": {
    "name": "ipython",
    "version": 3
   },
   "file_extension": ".py",
   "mimetype": "text/x-python",
   "name": "python",
   "nbconvert_exporter": "python",
   "pygments_lexer": "ipython3",
   "version": "3.9.7"
  }
 },
 "nbformat": 4,
 "nbformat_minor": 5
}
