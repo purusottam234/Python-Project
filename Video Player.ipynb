{
 "cells": [
  {
   "cell_type": "markdown",
   "id": "85c501d1",
   "metadata": {},
   "source": [
    "# CV2"
   ]
  },
  {
   "cell_type": "markdown",
   "id": "84621931",
   "metadata": {},
   "source": [
    "OpenCV is a huge open_source library for computer vision\n",
    "machine learning and image processing"
   ]
  },
  {
   "cell_type": "code",
   "execution_count": 1,
   "id": "ddef9eca",
   "metadata": {},
   "outputs": [
    {
     "name": "stdout",
     "output_type": "stream",
     "text": [
      "Requirement already satisfied: opencv-python in c:\\users\\purusottam\\anaconda3\\lib\\site-packages (4.5.5.62)\n",
      "Requirement already satisfied: numpy>=1.14.5 in c:\\users\\purusottam\\anaconda3\\lib\\site-packages (from opencv-python) (1.20.3)\n"
     ]
    }
   ],
   "source": [
    "!pip install opencv-python"
   ]
  },
  {
   "cell_type": "code",
   "execution_count": null,
   "id": "7e17a36f",
   "metadata": {},
   "outputs": [],
   "source": [
    "import cv2\n",
    "import numpy as np\n",
    "#read video file\n",
    "new_capture = cv2.VideoCapture('C:/Users/Purusottam/Downloads/Video/Kantara.mkv')\n",
    "#check if the file opened successfully\n",
    "if (new_capture.isOpened()==False):\n",
    "    print(\"Error for opening the video file\")\n",
    "    \n",
    "# Reading the video to complete\n",
    "while(new_capture.isOpened()):\n",
    "    ret,frame = new_capture.read()\n",
    "    if ret == True:\n",
    "        cv2.imshow('Frame',frame)\n",
    "        if cv2.waitKey(25)& 0xFF == ord('q'):\n",
    "            break\n",
    "    else:\n",
    "        break\n",
    "#Release when everything is completed\n",
    "new_capture.release()\n",
    "cv2.destroyAllWindows() #close all frames\n",
    "\n",
    "    "
   ]
  },
  {
   "cell_type": "code",
   "execution_count": null,
   "id": "4b556a93",
   "metadata": {},
   "outputs": [],
   "source": []
  }
 ],
 "metadata": {
  "kernelspec": {
   "display_name": "Python 3 (ipykernel)",
   "language": "python",
   "name": "python3"
  },
  "language_info": {
   "codemirror_mode": {
    "name": "ipython",
    "version": 3
   },
   "file_extension": ".py",
   "mimetype": "text/x-python",
   "name": "python",
   "nbconvert_exporter": "python",
   "pygments_lexer": "ipython3",
   "version": "3.9.7"
  }
 },
 "nbformat": 4,
 "nbformat_minor": 5
}
