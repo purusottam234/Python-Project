{
 "cells": [
  {
   "cell_type": "markdown",
   "id": "c6fcd3a6",
   "metadata": {},
   "source": [
    "# Music Player"
   ]
  },
  {
   "cell_type": "markdown",
   "id": "66c8195c",
   "metadata": {},
   "source": [
    "Pygame: writing videogames. It includes computer graphics and sound libraries\n",
    "    "
   ]
  },
  {
   "cell_type": "code",
   "execution_count": 2,
   "id": "c05e5efb",
   "metadata": {},
   "outputs": [
    {
     "name": "stdout",
     "output_type": "stream",
     "text": [
      "Requirement already satisfied: pygame in c:\\users\\purusottam\\anaconda3\\lib\\site-packages (2.1.2)\n"
     ]
    }
   ],
   "source": [
    "!pip install pygame"
   ]
  },
  {
   "cell_type": "code",
   "execution_count": 8,
   "id": "e2062f41",
   "metadata": {},
   "outputs": [],
   "source": [
    "#how to load play pause and unpause audio file\n",
    "from pygame import mixer\n",
    "mixer.init() #initializing pygame mixer\n",
    "mixer.music.load(\"D:/Downloads/Music/1.mp3\")#loading audio file\n",
    "mixer.music.play()#playing music with pygame\n",
    "mixer.music.stop() #music stop\n"
   ]
  },
  {
   "cell_type": "code",
   "execution_count": null,
   "id": "31156a56",
   "metadata": {},
   "outputs": [],
   "source": [
    "from tkinter import *\n",
    "from tkinter import filedialog\n",
    "from pygame import mixer\n",
    "class Player:\n",
    "    def __init__(self,window):\n",
    "        window.geometry('320x100'); window.title(\"Python audio Player\");window.resizable(0,0)\n",
    "        Load = Button(window,text='Load',width=10,font=('Times',10),command=self.load)\n",
    "        Play = Button(window,text='Play',width=10,font=('Times',10),command=self.play)\n",
    "        Pause = Button(window,text='Pause',width=10,font=('Times',10),command=self.pause)\n",
    "        Stop = Button(window,text='Stop',width=10,font=('Times',10),command=self.stop)\n",
    "        Load.place(x=0,y=20);Play.place(x=110,y=20);Pause.place(x=220,y=20);Stop.place(x=110,y=60)\n",
    "        self.music_file = False\n",
    "        self.playing_state = False\n",
    "    \n",
    "    def load(self):\n",
    "        self.music_file=filedialog.askopenfilename()\n",
    "        \n",
    "    def play(self):\n",
    "        if self.music_file:\n",
    "            mixer.init()\n",
    "            mixer.music.load(self.music_file)\n",
    "            mixer.music.play()\n",
    "            \n",
    "    def pause(self):\n",
    "        if not self.playing_state:\n",
    "            mixer.music.pause()\n",
    "            self.playing_state=True\n",
    "        else:\n",
    "            mixer.music.unpause()\n",
    "            self.playing_state =False\n",
    "            \n",
    "    def stop(self):\n",
    "        mixer.music.stop()\n",
    "        \n",
    "new_root = Tk()\n",
    "player_app = Player(new_root)\n",
    "new_root.mainloop()\n",
    "            \n",
    "            \n",
    "        \n"
   ]
  },
  {
   "cell_type": "code",
   "execution_count": null,
   "id": "76bc95ab",
   "metadata": {},
   "outputs": [],
   "source": []
  }
 ],
 "metadata": {
  "kernelspec": {
   "display_name": "Python 3 (ipykernel)",
   "language": "python",
   "name": "python3"
  },
  "language_info": {
   "codemirror_mode": {
    "name": "ipython",
    "version": 3
   },
   "file_extension": ".py",
   "mimetype": "text/x-python",
   "name": "python",
   "nbconvert_exporter": "python",
   "pygments_lexer": "ipython3",
   "version": "3.9.7"
  }
 },
 "nbformat": 4,
 "nbformat_minor": 5
}
