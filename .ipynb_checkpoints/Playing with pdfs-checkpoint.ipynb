{
 "cells": [
  {
   "cell_type": "markdown",
   "id": "8917b8af",
   "metadata": {},
   "source": [
    "# manage pdf using python"
   ]
  },
  {
   "cell_type": "markdown",
   "id": "e090bca2",
   "metadata": {},
   "source": [
    "PDF stands for Portable Document Format\n",
    "extension .pdf\n",
    "## PyPDF2 Library\n",
    "pypdf2 is a pdf toolkit extract document information split and merge\n",
    "multiple pages into a single page encrypt and decrypt pdf files and more"
   ]
  },
  {
   "cell_type": "code",
   "execution_count": 2,
   "id": "e3b2e9f9",
   "metadata": {},
   "outputs": [
    {
     "name": "stdout",
     "output_type": "stream",
     "text": [
      "Collecting PyPDF2\n",
      "  Downloading pypdf2-2.11.2-py3-none-any.whl (220 kB)\n",
      "Requirement already satisfied: typing_extensions>=3.10.0.0 in c:\\users\\purusottam\\anaconda3\\lib\\site-packages (from PyPDF2) (3.10.0.2)\n",
      "Installing collected packages: PyPDF2\n",
      "Successfully installed PyPDF2-2.11.2\n"
     ]
    }
   ],
   "source": [
    "!pip install PyPDF2"
   ]
  },
  {
   "cell_type": "code",
   "execution_count": 3,
   "id": "41d77e75",
   "metadata": {},
   "outputs": [
    {
     "ename": "AttributeError",
     "evalue": "'PdfFileReader' object has no attribute 'numpages'",
     "output_type": "error",
     "traceback": [
      "\u001b[1;31m---------------------------------------------------------------------------\u001b[0m",
      "\u001b[1;31mAttributeError\u001b[0m                            Traceback (most recent call last)",
      "\u001b[1;32mC:\\Users\\PURUSO~1\\AppData\\Local\\Temp/ipykernel_15628/3765470044.py\u001b[0m in \u001b[0;36m<module>\u001b[1;34m\u001b[0m\n\u001b[0;32m      2\u001b[0m \u001b[0mnew_pdf\u001b[0m \u001b[1;33m=\u001b[0m \u001b[0mopen\u001b[0m\u001b[1;33m(\u001b[0m\u001b[1;34m\"sabita.pdf\"\u001b[0m\u001b[1;33m,\u001b[0m\u001b[1;34m'rb'\u001b[0m\u001b[1;33m)\u001b[0m \u001b[1;31m#file object creation\u001b[0m\u001b[1;33m\u001b[0m\u001b[1;33m\u001b[0m\u001b[0m\n\u001b[0;32m      3\u001b[0m \u001b[0mreading_pdf\u001b[0m \u001b[1;33m=\u001b[0m \u001b[0mPyPDF2\u001b[0m\u001b[1;33m.\u001b[0m\u001b[0mPdfFileReader\u001b[0m\u001b[1;33m(\u001b[0m\u001b[0mnew_pdf\u001b[0m\u001b[1;33m)\u001b[0m \u001b[1;31m# pdf reader object\u001b[0m\u001b[1;33m\u001b[0m\u001b[1;33m\u001b[0m\u001b[0m\n\u001b[1;32m----> 4\u001b[1;33m \u001b[0mprint\u001b[0m\u001b[1;33m(\u001b[0m\u001b[0mreading_pdf\u001b[0m\u001b[1;33m.\u001b[0m\u001b[0mnumpages\u001b[0m\u001b[1;33m)\u001b[0m\u001b[1;31m#number of pages in pdf\u001b[0m\u001b[1;33m\u001b[0m\u001b[1;33m\u001b[0m\u001b[0m\n\u001b[0m\u001b[0;32m      5\u001b[0m \u001b[0mpdf_page\u001b[0m \u001b[1;33m=\u001b[0m \u001b[0mreading_pdf\u001b[0m\u001b[1;33m.\u001b[0m\u001b[0mgetPage\u001b[0m\u001b[1;33m(\u001b[0m\u001b[1;36m0\u001b[0m\u001b[1;33m)\u001b[0m \u001b[1;31m#page object creation\u001b[0m\u001b[1;33m\u001b[0m\u001b[1;33m\u001b[0m\u001b[0m\n\u001b[0;32m      6\u001b[0m \u001b[0mprint\u001b[0m\u001b[1;33m(\u001b[0m\u001b[0mpdf_page\u001b[0m\u001b[1;33m.\u001b[0m\u001b[0mextractText\u001b[0m\u001b[1;33m(\u001b[0m\u001b[1;33m)\u001b[0m\u001b[1;33m)\u001b[0m\u001b[1;33m\u001b[0m\u001b[1;33m\u001b[0m\u001b[0m\n",
      "\u001b[1;31mAttributeError\u001b[0m: 'PdfFileReader' object has no attribute 'numpages'"
     ]
    }
   ],
   "source": [
    "import PyPDF2\n",
    "new_pdf = open(\"sabita.pdf\",'rb') #file object creation\n",
    "reading_pdf = PyPDF2.PdfFileReader(new_pdf) # pdf reader object\n",
    "print(reading_pdf.numpages) #number of pages in pdf\n",
    "pdf_page = reading_pdf.getPage(0) #page object creation\n",
    "print(pdf_page.extractText())\n"
   ]
  },
  {
   "cell_type": "code",
   "execution_count": null,
   "id": "c7c1a08e",
   "metadata": {},
   "outputs": [],
   "source": []
  }
 ],
 "metadata": {
  "kernelspec": {
   "display_name": "Python 3 (ipykernel)",
   "language": "python",
   "name": "python3"
  },
  "language_info": {
   "codemirror_mode": {
    "name": "ipython",
    "version": 3
   },
   "file_extension": ".py",
   "mimetype": "text/x-python",
   "name": "python",
   "nbconvert_exporter": "python",
   "pygments_lexer": "ipython3",
   "version": "3.9.7"
  }
 },
 "nbformat": 4,
 "nbformat_minor": 5
}
