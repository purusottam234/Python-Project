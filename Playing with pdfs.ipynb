{
 "cells": [
  {
   "cell_type": "markdown",
   "id": "27f3938e",
   "metadata": {},
   "source": [
    "# manage pdf using python"
   ]
  },
  {
   "cell_type": "markdown",
   "id": "70e93fdd",
   "metadata": {},
   "source": [
    "PDF stands for Portable Document Format\n",
    "extension .pdf\n",
    "## PyPDF2 Library\n",
    "pypdf2 is a pdf toolkit extract document information split and merge\n",
    "multiple pages into a single page encrypt and decrypt pdf files and more"
   ]
  },
  {
   "cell_type": "code",
   "execution_count": 2,
   "id": "627e9864",
   "metadata": {},
   "outputs": [
    {
     "name": "stdout",
     "output_type": "stream",
     "text": [
      "Collecting PyPDF2\n",
      "  Downloading pypdf2-2.11.2-py3-none-any.whl (220 kB)\n",
      "Requirement already satisfied: typing_extensions>=3.10.0.0 in c:\\users\\purusottam\\anaconda3\\lib\\site-packages (from PyPDF2) (3.10.0.2)\n",
      "Installing collected packages: PyPDF2\n",
      "Successfully installed PyPDF2-2.11.2\n"
     ]
    }
   ],
   "source": [
    "!pip install PyPDF2"
   ]
  },
  {
   "cell_type": "code",
   "execution_count": 13,
   "id": "a20fa935",
   "metadata": {},
   "outputs": [
    {
     "ename": "SyntaxError",
     "evalue": "invalid syntax (Temp/ipykernel_15628/102837551.py, line 2)",
     "output_type": "error",
     "traceback": [
      "\u001b[1;36m  File \u001b[1;32m\"C:\\Users\\PURUSO~1\\AppData\\Local\\Temp/ipykernel_15628/102837551.py\"\u001b[1;36m, line \u001b[1;32m2\u001b[0m\n\u001b[1;33m    new_pdf = open(C:/Users/Purusottam/Desktop/,\"Binder1.pdf\",'rb') #file object creation\u001b[0m\n\u001b[1;37m                    ^\u001b[0m\n\u001b[1;31mSyntaxError\u001b[0m\u001b[1;31m:\u001b[0m invalid syntax\n"
     ]
    }
   ],
   "source": [
    "import PyPDF2\n",
    "new_pdf = open(C:/Users/Purusottam/Desktop/,\"Binder1.pdf\",'rb') #file object creation\n",
    "reading_pdf = PyPDF2.PdfFileReader(new_pdf) # pdf reader object\n",
    "print(reading_pdf.numPages) #number of pages in pdf\n",
    "pdf_page = reading_pdf.getPage(22) #page object creation\n",
    "print(pdf_page.extractText())\n",
    "new_pdf.close()\n"
   ]
  },
  {
   "cell_type": "code",
   "execution_count": null,
   "id": "d5064457",
   "metadata": {},
   "outputs": [],
   "source": []
  }
 ],
 "metadata": {
  "kernelspec": {
   "display_name": "Python 3 (ipykernel)",
   "language": "python",
   "name": "python3"
  },
  "language_info": {
   "codemirror_mode": {
    "name": "ipython",
    "version": 3
   },
   "file_extension": ".py",
   "mimetype": "text/x-python",
   "name": "python",
   "nbconvert_exporter": "python",
   "pygments_lexer": "ipython3",
   "version": "3.9.7"
  }
 },
 "nbformat": 4,
 "nbformat_minor": 5
}
