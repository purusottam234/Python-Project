{
 "cells": [
  {
   "cell_type": "markdown",
   "id": "7fb4ba7a",
   "metadata": {},
   "source": [
    "# manage pdf using python"
   ]
  },
  {
   "cell_type": "markdown",
   "id": "97f03218",
   "metadata": {},
   "source": [
    "PDF stands for Portable Document Format\n",
    "extension .pdf\n",
    "## PyPDF2 Library\n",
    "pypdf2 is a pdf toolkit extract document information split and merge\n",
    "multiple pages into a single page encrypt and decrypt pdf files and more"
   ]
  },
  {
   "cell_type": "code",
   "execution_count": 2,
   "id": "7ba7a0a7",
   "metadata": {},
   "outputs": [
    {
     "name": "stdout",
     "output_type": "stream",
     "text": [
      "Collecting PyPDF2\n",
      "  Downloading pypdf2-2.11.2-py3-none-any.whl (220 kB)\n",
      "Requirement already satisfied: typing_extensions>=3.10.0.0 in c:\\users\\purusottam\\anaconda3\\lib\\site-packages (from PyPDF2) (3.10.0.2)\n",
      "Installing collected packages: PyPDF2\n",
      "Successfully installed PyPDF2-2.11.2\n"
     ]
    }
   ],
   "source": [
    "!pip install PyPDF2"
   ]
  },
  {
   "cell_type": "code",
   "execution_count": 14,
   "id": "dd2fdfd3",
   "metadata": {},
   "outputs": [
    {
     "name": "stdout",
     "output_type": "stream",
     "text": [
      "34\n",
      " 14   \n",
      " CHAPTER 4: CONCLUSION AND LEARNING \n",
      "OUTCOMES  \n",
      "4.1 Conclusion  \n",
      "The ultimate objective of the project is to make the official back -end server reusable for all \n",
      "the front -end applications such as web, mobile and desktop. It  is optimized and has quick \n",
      "response so the front -end applications also can run smoothly. All the authentication and \n",
      "authorization was implemented to the API  end-poinnt. \n",
      "The documentation was made for front -end developer so they can integrate it to the fro nt-\n",
      "end application. All the API end -points are made of class based views so all the OOP \n",
      "benefits can be taken in advantage.  \n",
      "I have tried my best to learn from a professional aspect and implement what I have learned \n",
      "up to now. Here I have used my theoretica l knowledge, which I have achieved in my \n",
      "educational period , and I used what I have learned throughout my internship programs \n",
      "regarding the facts.  \n",
      "From this report, I have tried to include the overall findings of my internship period and \n",
      "have includes the knowledge that I have gained as far as possible.   \n",
      "4.2 Learning Outcome  \n",
      "It was a great pleasure working in the organization as an intern as it was exposure to the \n",
      "working environment of the real working environment of the organization. It was a great \n",
      "opport unity to learn the disciplines, effort, hardships, and morals necessary in the real \n",
      "scenario of the working organization. The major lesson that I have learned during the \n",
      "Internship period is as follows:  \n",
      " Learned about REST API  \n",
      " Learned to Integrate Payment  \n",
      " Learned to test the Functionality using unit test  \n",
      " Customized Admin Panel  \n",
      " Learned to create documentation on README.md  \n",
      " Learned to dockerize the project  \n",
      " Learned to Publish package in Pypi  \n"
     ]
    }
   ],
   "source": [
    "import PyPDF2\n",
    "new_pdf = open(\"C:/Users/Purusottam/Desktop/Binder1.pdf\",'rb') #file object creation\n",
    "reading_pdf = PyPDF2.PdfFileReader(new_pdf) # pdf reader object\n",
    "print(reading_pdf.numPages) #number of pages in pdf\n",
    "pdf_page = reading_pdf.getPage(22) #page object creation\n",
    "print(pdf_page.extractText())\n",
    "new_pdf.close()\n"
   ]
  },
  {
   "cell_type": "code",
   "execution_count": null,
   "id": "1124bd14",
   "metadata": {},
   "outputs": [],
   "source": []
  }
 ],
 "metadata": {
  "kernelspec": {
   "display_name": "Python 3 (ipykernel)",
   "language": "python",
   "name": "python3"
  },
  "language_info": {
   "codemirror_mode": {
    "name": "ipython",
    "version": 3
   },
   "file_extension": ".py",
   "mimetype": "text/x-python",
   "name": "python",
   "nbconvert_exporter": "python",
   "pygments_lexer": "ipython3",
   "version": "3.9.7"
  }
 },
 "nbformat": 4,
 "nbformat_minor": 5
}
