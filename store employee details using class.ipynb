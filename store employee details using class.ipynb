{
 "cells": [
  {
   "cell_type": "code",
   "execution_count": 1,
   "id": "5390a4e8",
   "metadata": {},
   "outputs": [
    {
     "name": "stdout",
     "output_type": "stream",
     "text": [
      "there are 3 employee\n",
      "**Employee Information**\n",
      "Name: Employee1 ,Position: Developer ,Salary: 34000\n",
      "Name: Ram ,Position: FrontEnd ,Salary: 56000\n",
      "Name: Sita ,Position: Backend ,Salary: 86000\n"
     ]
    }
   ],
   "source": [
    "class Employee:\n",
    "    count = 0\n",
    "    def __init__(self,name,position,salary):\n",
    "        self.name= name\n",
    "        self.position = position\n",
    "        self.salary=salary\n",
    "        Employee.count+=1\n",
    "    def displayCount(self):\n",
    "        print(\"there are %d employee\" % Employee.count)\n",
    "    \n",
    "    def displayDetails(self):\n",
    "        print(\"Name:\",self.name,\",Position:\",self.position,\",Salary:\",self.salary)\n",
    "        \n",
    "emp1= Employee(\"Employee1\",\"Developer\",34000)\n",
    "emp2 = Employee(\"Ram\",\"FrontEnd\",56000)\n",
    "emp3 = Employee(\"Sita\",\"Backend\",86000)\n",
    "emp3.displayCount() #count of employee\n",
    "print(\"**Employee Information**\")\n",
    "emp1.displayDetails()\n",
    "emp2.displayDetails()\n",
    "emp3.displayDetails()\n",
    "        "
   ]
  },
  {
   "cell_type": "code",
   "execution_count": null,
   "id": "1a97c48d",
   "metadata": {},
   "outputs": [],
   "source": []
  }
 ],
 "metadata": {
  "kernelspec": {
   "display_name": "Python 3 (ipykernel)",
   "language": "python",
   "name": "python3"
  },
  "language_info": {
   "codemirror_mode": {
    "name": "ipython",
    "version": 3
   },
   "file_extension": ".py",
   "mimetype": "text/x-python",
   "name": "python",
   "nbconvert_exporter": "python",
   "pygments_lexer": "ipython3",
   "version": "3.9.7"
  }
 },
 "nbformat": 4,
 "nbformat_minor": 5
}
