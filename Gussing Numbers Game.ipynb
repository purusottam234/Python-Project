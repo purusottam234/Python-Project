{
 "cells": [
  {
   "cell_type": "markdown",
   "id": "356b571a",
   "metadata": {},
   "source": [
    "# Guessing Game"
   ]
  },
  {
   "cell_type": "code",
   "execution_count": null,
   "id": "4566384d",
   "metadata": {},
   "outputs": [
    {
     "name": "stdout",
     "output_type": "stream",
     "text": [
      "Welcome to the Guessing game\n",
      "Choose your level between Easy, Medium and Advancedeasy\n",
      "you are to guess a number betweeen 1 and 10, and you have 6 guesses\n",
      "What is your guess?3\n",
      "Sorry, That was Wrong!\n",
      "you have 5 guess(es) left\n",
      "What is your guess?2\n",
      "Congratulation, you got it right\n",
      "Game over!\n",
      "the random number was 2\n",
      "Do you want to play again? Yes/Noyes\n",
      "Welcome to the Guessing game\n",
      "Choose your level between Easy, Medium and Advancedadvance\n",
      "This is Wrong Choice\n",
      "Welcome to the Guessing game\n"
     ]
    }
   ],
   "source": [
    "import random\n",
    "def guessing_game(guessLimit,number):\n",
    "    random_number = random.randint(1,number)\n",
    "    try:\n",
    "        while guessLimit > 0:\n",
    "            guess = int(input(\"What is your guess?\"))\n",
    "            guessLimit -= 1\n",
    "            if random_number == guess:\n",
    "                print(\"Congratulation, you got it right\")\n",
    "                break\n",
    "            elif guess > number:\n",
    "                print(\"Your Guess is out of range!\")\n",
    "                print(f'you have {guessLimit} guess(es) left')\n",
    "            else:\n",
    "                print(\"Sorry, That was Wrong!\")\n",
    "                print(f'you have {guessLimit} guess(es) left')\n",
    "        print('Game over!')\n",
    "        print(f'the random number was {random_number}')\n",
    "    except ValueError:\n",
    "        print('only integers are allowed')\n",
    "        \n",
    "def easy():\n",
    "    print(\"you are to guess a number betweeen 1 and 10, and you have 6 guesses\")\n",
    "    guessing_game(6,10)\n",
    "\n",
    "def medium():\n",
    "    print(\"you are to guess a number betweeen 1 and 20, and you have 4 guesses\")\n",
    "    guessing_game(4,20)\n",
    "    \n",
    "def advanced():\n",
    "    print(\"you are to guess a number betweeen 1 and 100, and you have 3 guesses\")\n",
    "    guessing_game(3,100)\n",
    "    \n",
    "def try_again():\n",
    "    again = input('Do you want to play again? Yes/No')\n",
    "    if again.upper() == 'YES':\n",
    "        welcome()\n",
    "    elif again.upper()==\"NO\":\n",
    "        print(\"Thanks for Playing\")\n",
    "    else:\n",
    "        print(\"Wrong Input\")\n",
    "        try_again()\n",
    "        \n",
    "def welcome():\n",
    "    print(\"Welcome to the Guessing game\")\n",
    "    difficult = input(\"Choose your level between Easy, Medium and Advanced\")\n",
    "    if difficult.upper()==\"EASY\":\n",
    "        easy()\n",
    "        try_again()\n",
    "    elif difficult.upper()==\"MEDIUM\":\n",
    "        medium()\n",
    "        try_again()\n",
    "    elif difficult.upper()==\"ADVANCED\":\n",
    "        advanced()\n",
    "        try_again()\n",
    "    else:\n",
    "        print(\"This is Wrong Choice\")\n",
    "        welcome()\n",
    "        \n",
    "welcome()\n",
    "\n",
    "\n"
   ]
  },
  {
   "cell_type": "code",
   "execution_count": null,
   "id": "4228b1ef",
   "metadata": {},
   "outputs": [],
   "source": []
  }
 ],
 "metadata": {
  "kernelspec": {
   "display_name": "Python 3 (ipykernel)",
   "language": "python",
   "name": "python3"
  },
  "language_info": {
   "codemirror_mode": {
    "name": "ipython",
    "version": 3
   },
   "file_extension": ".py",
   "mimetype": "text/x-python",
   "name": "python",
   "nbconvert_exporter": "python",
   "pygments_lexer": "ipython3",
   "version": "3.9.7"
  }
 },
 "nbformat": 4,
 "nbformat_minor": 5
}
