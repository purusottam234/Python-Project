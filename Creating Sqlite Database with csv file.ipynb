{
 "cells": [
  {
   "cell_type": "code",
   "execution_count": 3,
   "id": "56d3cbf6",
   "metadata": {},
   "outputs": [],
   "source": [
    "#importing Libraries\n",
    "import sqlite3\n",
    "import pandas as pd\n",
    "\n",
    "#sqlite database connections\n",
    "new_connection = sqlite3.connect(r'C:\\Users\\Purusottam\\Python Projects\\main.db')\n",
    "\n",
    "#loading data into dataFrames\n",
    "\n",
    "demo_data = pd.read_csv('main.csv')\n",
    "#write the data into sqlite table\n",
    "\n",
    "demo_data.to_sql('main',new_connection,if_exists='replace',index=False)\n",
    "\n",
    "#close connection to sqlite\n",
    "new_connection.close()"
   ]
  },
  {
   "cell_type": "code",
   "execution_count": null,
   "id": "3374f4f2",
   "metadata": {},
   "outputs": [],
   "source": []
  }
 ],
 "metadata": {
  "kernelspec": {
   "display_name": "Python 3 (ipykernel)",
   "language": "python",
   "name": "python3"
  },
  "language_info": {
   "codemirror_mode": {
    "name": "ipython",
    "version": 3
   },
   "file_extension": ".py",
   "mimetype": "text/x-python",
   "name": "python",
   "nbconvert_exporter": "python",
   "pygments_lexer": "ipython3",
   "version": "3.9.7"
  }
 },
 "nbformat": 4,
 "nbformat_minor": 5
}
